{
 "cells": [
  {
   "cell_type": "markdown",
   "metadata": {},
   "source": [
    "# 2.2"
   ]
  },
  {
   "cell_type": "markdown",
   "metadata": {},
   "source": [
    "## Exercise 1\n",
    "\n",
    "\\begin{align}\n",
    "J(\\theta) &= \\frac{1}{m} \\sum_{i=1}^{m} (h_\\theta(x_i) - y_i)^2 \\\\\n",
    "  &= \\frac{1}{m} \\sum_{i=1}^{m} (\\theta^T x_i - y_i)^2 \\\\\n",
    "  &= \\frac{1}{m} (X \\theta - y)^T (X \\theta - y)\n",
    "\\end{align}"
   ]
  },
  {
   "cell_type": "markdown",
   "metadata": {},
   "source": [
    "## Exercise 2\n",
    "\n",
    "$$\n",
    "\\nabla J(\\theta) = \\frac{2}{m} X^T (X \\theta - y)\n",
    "$$"
   ]
  },
  {
   "cell_type": "markdown",
   "metadata": {},
   "source": [
    "## Exercise 3\n",
    "\n",
    "\\begin{align}\n",
    "J(\\theta + \\eta h) - J(\\theta) &\\approx \\eta ||h|| \\nabla J(\\theta) \\\\\n",
    "  &= \\frac{2 \\eta ||h||}{m} X^T (X \\theta - y)\n",
    "\\end{align}"
   ]
  },
  {
   "cell_type": "markdown",
   "metadata": {},
   "source": [
    "## Exercise 4\n",
    "\n",
    "$$\n",
    "\\theta \\leftarrow \\theta - \\eta \\nabla J(\\theta)\n",
    "$$"
   ]
  }
 ],
 "metadata": {
  "kernelspec": {
   "display_name": "Python 3",
   "language": "python",
   "name": "python3"
  },
  "language_info": {
   "codemirror_mode": {
    "name": "ipython",
    "version": 3
   },
   "file_extension": ".py",
   "mimetype": "text/x-python",
   "name": "python",
   "nbconvert_exporter": "python",
   "pygments_lexer": "ipython3",
   "version": "3.5.2"
  }
 },
 "nbformat": 4,
 "nbformat_minor": 2
}
